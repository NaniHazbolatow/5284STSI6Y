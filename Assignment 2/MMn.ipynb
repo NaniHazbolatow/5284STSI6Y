{
 "cells": [
  {
   "cell_type": "markdown",
   "metadata": {},
   "source": [
    "### Implementation of M/M/n queue system"
   ]
  },
  {
   "cell_type": "code",
   "execution_count": 1,
   "metadata": {},
   "outputs": [],
   "source": [
    "import simpy\n",
    "import numpy as np\n",
    "import random\n",
    "import matplotlib.pyplot as plt"
   ]
  },
  {
   "cell_type": "code",
   "execution_count": 2,
   "metadata": {},
   "outputs": [],
   "source": [
    "class Request:\n",
    "    \"\"\"Represents a single request in a M/M/n queue\"\"\"\n",
    "    def __init__(self, request_id, arrival_time, service_time):\n",
    "        self.request_id = request_id\n",
    "        self.arrival_time = arrival_time\n",
    "        self.service_time = service_time\n",
    "        self.wait_time = None\n",
    "\n",
    "    def log_wait(self, wait_time):\n",
    "        \"\"\"Log waiting time\"\"\"\n",
    "        self.wait_time = wait_time\n",
    "\n",
    "# Generate service times using np.random.choice\n",
    "def generate_service_time(probabilities, scales):\n",
    "    choice = np.random.choice(len(probabilities), p=probabilities)\n",
    "    return np.random.exponential(scale=1/scales[choice])"
   ]
  },
  {
   "cell_type": "code",
   "execution_count": 3,
   "metadata": {},
   "outputs": [],
   "source": [
    "class MMNqueue:\n",
    "    \"\"\"Simulates an M/M/n queue.\"\"\"\n",
    "    def __init__(self, simpy_env, num_servers, service_probabilities, service_scales, num_requests, arrival_rate, scheduler_type=\"FIFO\"):\n",
    "        self.env = simpy_env\n",
    "        self.num_servers = num_servers\n",
    "        self.service_probabilities = service_probabilities\n",
    "        self.service_scales = service_scales\n",
    "        self.arrival_rate = arrival_rate\n",
    "\n",
    "        match scheduler_type:\n",
    "            case \"FIFO\" : self.pool = simpy.Resource(self.env, capacity=num_servers)\n",
    "            case \"SJF\"  : self.pool = simpy.PriorityResource(self.env, capacity=num_servers) \n",
    "\n",
    "\n",
    "        # Request information\n",
    "        self.completed_requests = 0\n",
    "        self.requests = []\n",
    "        self.num_requests = num_requests\n",
    "\n",
    "    def generate_request(self, request_id):\n",
    "        \"\"\"Generate a new request.\"\"\"\n",
    "        arrival_time = self.env.now\n",
    "        service_time = generate_service_time(self.service_probabilities, self.service_scales)\n",
    "        return Request(request_id, arrival_time, service_time)\n",
    "\n",
    "    def handle_request(self, request):\n",
    "        \"\"\"Handle requests using the selected resource (FIFO or SJF).\"\"\"\n",
    "        if isinstance(self.pool, simpy.PriorityResource):\n",
    "            # SJF: Use priority based on service time\n",
    "            with self.pool.request(priority=request.service_time) as req:\n",
    "                yield req\n",
    "                wait_time = self.env.now - request.arrival_time\n",
    "                request.log_wait(wait_time)\n",
    "                yield self.env.timeout(request.service_time)\n",
    "            \n",
    "            self.requests.append(request)  # Store the processed request\n",
    "            self.completed_requests += 1\n",
    "        else:\n",
    "            # FIFO: No priority, just use FIFO\n",
    "            with self.pool.request() as req:\n",
    "                yield req\n",
    "                wait_time = self.env.now - request.arrival_time\n",
    "                request.log_wait(wait_time)\n",
    "                yield self.env.timeout(request.service_time)\n",
    "\n",
    "            self.requests.append(request)  # Store the processed request\n",
    "            self.completed_requests += 1\n",
    "\n",
    "    def arrival_process(self):\n",
    "        \"\"\"Simulate the arrival process of requests.\"\"\"\n",
    "        request_id = 0\n",
    "        while self.completed_requests < self.num_requests:\n",
    "            yield self.env.timeout(np.random.exponential(1 / self.arrival_rate))  # Inter-arrival time\n",
    "            request = self.generate_request(request_id)\n",
    "            request_id += 1\n",
    "            # Add request to the appropriate resource queue (based on FIFO/SJF)\n",
    "            self.env.process(self.handle_request(request))  # Process the request\n"
   ]
  },
  {
   "cell_type": "code",
   "execution_count": 4,
   "metadata": {},
   "outputs": [],
   "source": [
    "def run_simulation(num_requests, num_servers, arrival_rate, service_probabilities, service_scales, scheduler_type=\"FIFO\"):\n",
    "    # Initialize the simulation environment\n",
    "    env = simpy.Environment()\n",
    "\n",
    "    # Initialize the MMNqueue with the given parameters\n",
    "    mmn_queue = MMNqueue(\n",
    "        simpy_env=env,\n",
    "        num_servers=num_servers,\n",
    "        service_probabilities=service_probabilities,\n",
    "        service_scales=service_scales,\n",
    "        num_requests=num_requests,\n",
    "        arrival_rate=arrival_rate,\n",
    "        scheduler_type=scheduler_type,\n",
    "    )\n",
    "\n",
    "    # Start the arrival and handling processes\n",
    "    env.process(mmn_queue.arrival_process())\n",
    "\n",
    "    # Run the simulation\n",
    "    env.run()\n",
    "\n",
    "    # Collect and return simulation statistics\n",
    "    wait_times = [req.wait_time for req in mmn_queue.requests if req.wait_time is not None]\n",
    "    service_times = [req.service_time for req in mmn_queue.requests]\n",
    "\n",
    "    return {\n",
    "        \"wait_times\": wait_times,\n",
    "        \"service_times\": service_times,\n",
    "        \"num_completed_requests\": len(mmn_queue.requests),\n",
    "        \"num_total_requests\": num_requests,\n",
    "    }\n"
   ]
  },
  {
   "cell_type": "code",
   "execution_count": 5,
   "metadata": {},
   "outputs": [],
   "source": [
    "def calculate_theoretical_waiting_time(lamda, mu, n):\n",
    "    return lamda / (n * mu**2 - lamda * mu)"
   ]
  },
  {
   "cell_type": "code",
   "execution_count": 19,
   "metadata": {},
   "outputs": [
    {
     "name": "stdout",
     "output_type": "stream",
     "text": [
      "FIFO Results: 1.1636\n",
      "Theoretical Expectation under FIFO: 3.6818\n",
      "SJF Results: 0.9136\n"
     ]
    }
   ],
   "source": [
    "# Parameters\n",
    "num_requests = 100000\n",
    "num_servers = 2\n",
    "arrival_rate = 1/5  # Inter-arrival time\n",
    "service_probabilities = [1]  # Example probabilities for different service times\n",
    "service_scales = [1/4.5]  # Example service rates\n",
    "\n",
    "burn_in_percentage = 0.05\n",
    "burn_in_count = int(num_requests * burn_in_percentage)\n",
    "\n",
    "# Run FIFO simulation\n",
    "fifo_result = run_simulation(num_requests, num_servers, arrival_rate, service_probabilities, service_scales, scheduler_type=\"FIFO\")\n",
    "print(f\"FIFO Results: {np.mean(fifo_result[\"wait_times\"][burn_in_count:]):.4f}\") \n",
    "print(f\"Theoretical Expectation under FIFO: {calculate_theoretical_waiting_time(arrival_rate, service_scales[0], num_servers):.4f}\")\n",
    "\n",
    "# Run SJF simulation\n",
    "sjf_result = run_simulation(num_requests, num_servers, arrival_rate, service_probabilities, service_scales, scheduler_type=\"SJF\")\n",
    "print(f\"SJF Results: {np.mean(sjf_result[\"wait_times\"][burn_in_count:]):.4f}\")\n"
   ]
  },
  {
   "cell_type": "code",
   "execution_count": 21,
   "metadata": {},
   "outputs": [
    {
     "name": "stdout",
     "output_type": "stream",
     "text": [
      "FIFO Results: 2.3521\n"
     ]
    }
   ],
   "source": [
    "# Parameters\n",
    "num_requests = 100000\n",
    "num_servers = 1\n",
    "arrival_rate = 1/5  # Inter-arrival time\n",
    "service_probabilities = [0.75, 0.25]  # Example probabilities for different service times\n",
    "service_scales = [1/1, 1/5]  # Example service rates\n",
    "\n",
    "burn_in_percentage = 0.05\n",
    "burn_in_count = int(num_requests * burn_in_percentage)\n",
    "\n",
    "# Run FIFO simulation\n",
    "fifo_result = run_simulation(num_requests, num_servers, arrival_rate, service_probabilities, service_scales, scheduler_type=\"FIFO\")\n",
    "print(f\"FIFO Results: {np.mean(fifo_result[\"wait_times\"][burn_in_count:]):.4f}\") "
   ]
  }
 ],
 "metadata": {
  "kernelspec": {
   "display_name": "IntroComputationalScience",
   "language": "python",
   "name": "python3"
  },
  "language_info": {
   "codemirror_mode": {
    "name": "ipython",
    "version": 3
   },
   "file_extension": ".py",
   "mimetype": "text/x-python",
   "name": "python",
   "nbconvert_exporter": "python",
   "pygments_lexer": "ipython3",
   "version": "3.12.4"
  }
 },
 "nbformat": 4,
 "nbformat_minor": 2
}
